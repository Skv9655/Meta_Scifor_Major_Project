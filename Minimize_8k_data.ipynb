{
 "cells": [
  {
   "cell_type": "code",
   "execution_count": 7,
   "id": "38867230",
   "metadata": {},
   "outputs": [
    {
     "name": "stdout",
     "output_type": "stream",
     "text": [
      "Reduced dataset saved to C:/Users/skv96/Downloads/archive/ReducedImages with 100 images.\n"
     ]
    }
   ],
   "source": [
    "import os\n",
    "import random\n",
    "import shutil\n",
    "\n",
    "# Set directories\n",
    "source_dir = 'C:/Users/skv96/Downloads/archive/Images'\n",
    "target_dir = 'C:/Users/skv96/Downloads/archive/ReducedImages'\n",
    "\n",
    "# Ensure the target directory exists\n",
    "os.makedirs(target_dir, exist_ok=True)\n",
    "\n",
    "# Get a list of all images in the source directory\n",
    "all_images = os.listdir(source_dir)\n",
    "\n",
    "# Randomly sample 1,000 images\n",
    "sampled_images = random.sample(all_images, 100)\n",
    "\n",
    "# Copy the sampled images to the target directory\n",
    "for img in sampled_images:\n",
    "    shutil.copy(os.path.join(source_dir, img), os.path.join(target_dir, img))\n",
    "\n",
    "print(f\"Reduced dataset saved to {target_dir} with {len(sampled_images)} images.\")\n"
   ]
  },
  {
   "cell_type": "code",
   "execution_count": 8,
   "id": "cdc9f3fb",
   "metadata": {},
   "outputs": [
    {
     "name": "stdout",
     "output_type": "stream",
     "text": [
      "Reduced captions saved to C:/Users/skv96/Downloads/archive/ReducedCaptions.txt.\n"
     ]
    }
   ],
   "source": [
    "captions_file = 'C:/Users/skv96/Downloads/archive/captions.txt'\n",
    "reduced_captions_file = 'C:/Users/skv96/Downloads/archive/ReducedCaptions.txt'\n",
    "\n",
    "# Load the selected image IDs\n",
    "selected_image_ids = [img.split('.')[0] for img in sampled_images]\n",
    "\n",
    "# Filter captions for the selected images\n",
    "with open(captions_file, 'r') as infile, open(reduced_captions_file, 'w') as outfile:\n",
    "    for line in infile:\n",
    "        if line.split()[0].split('.')[0] in selected_image_ids:\n",
    "            outfile.write(line)\n",
    "\n",
    "print(f\"Reduced captions saved to {reduced_captions_file}.\")\n"
   ]
  },
  {
   "cell_type": "code",
   "execution_count": null,
   "id": "20f42772",
   "metadata": {},
   "outputs": [],
   "source": []
  }
 ],
 "metadata": {
  "kernelspec": {
   "display_name": "Python 3 (ipykernel)",
   "language": "python",
   "name": "python3"
  },
  "language_info": {
   "codemirror_mode": {
    "name": "ipython",
    "version": 3
   },
   "file_extension": ".py",
   "mimetype": "text/x-python",
   "name": "python",
   "nbconvert_exporter": "python",
   "pygments_lexer": "ipython3",
   "version": "3.11.5"
  }
 },
 "nbformat": 4,
 "nbformat_minor": 5
}
